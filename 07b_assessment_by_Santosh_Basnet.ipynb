{
 "cells": [
  {
   "cell_type": "markdown",
   "metadata": {},
   "source": [
    "<img src=\"./images/DLI_Header.png\" style=\"width: 400px;\">"
   ]
  },
  {
   "cell_type": "markdown",
   "metadata": {},
   "source": [
    "# Assessment"
   ]
  },
  {
   "cell_type": "markdown",
   "metadata": {},
   "source": [
    "Congratulations on going through today's course! Hopefully, you've learned some valuable skills along the way and had fun doing it. Now it's time to put those skills to the test. In this assessment, you will train a new model that is able to recognize fresh and rotten fruit. You will need to get the model to a validation accuracy of `92%` in order to pass the assessment, though we challenge you to do even better if you can. You will have the use the skills that you learned in the previous exercises. Specifically, we suggest using some combination of transfer learning, data augmentation, and fine tuning. Once you have trained the model to be at least 92% accurate on the validation dataset, save your model, and then assess its accuracy. Let's get started! "
   ]
  },
  {
   "cell_type": "markdown",
   "metadata": {},
   "source": [
    "## The Dataset"
   ]
  },
  {
   "cell_type": "markdown",
   "metadata": {},
   "source": [
    "In this exercise, you will train a model to recognize fresh and rotten fruits. The dataset comes from [Kaggle](https://www.kaggle.com/sriramr/fruits-fresh-and-rotten-for-classification), a great place to go if you're interested in starting a project after this class. The dataset structure is in the `data/fruits` folder. There are 6 categories of fruits: fresh apples, fresh oranges, fresh bananas, rotten apples, rotten oranges, and rotten bananas. This will mean that your model will require an output layer of 6 neurons to do the categorization successfully. You'll also need to compile the model with `categorical_crossentropy`, as we have more than two categories."
   ]
  },
  {
   "cell_type": "markdown",
   "metadata": {},
   "source": [
    "<img src=\"./images/fruits.png\" style=\"width: 600px;\">"
   ]
  },
  {
   "cell_type": "markdown",
   "metadata": {},
   "source": [
    "## Load ImageNet Base Model"
   ]
  },
  {
   "cell_type": "markdown",
   "metadata": {},
   "source": [
    "We encourage you to start with a model pretrained on ImageNet. Load the model with the correct weights, set an input shape, and choose to remove the last layers of the model. Remember that images have three dimensions: a height, and width, and a number of channels. Because these pictures are in color, there will be three channels for red, green, and blue. We've filled in the input shape for you. This cannot be changed or the assessment will fail. If you need a reference for setting up the pretrained model, please take a look at [notebook 05b](05b_presidential_doggy_door.ipynb) where we implemented transfer learning."
   ]
  },
  {
   "cell_type": "code",
   "execution_count": 2,
   "metadata": {},
   "outputs": [
    {
     "name": "stdout",
     "output_type": "stream",
     "text": [
      "Downloading data from https://storage.googleapis.com/tensorflow/keras-applications/vgg16/vgg16_weights_tf_dim_ordering_tf_kernels_notop.h5\n",
      "58892288/58889256 [==============================] - 0s 0us/step\n"
     ]
    }
   ],
   "source": [
    "from tensorflow import keras\n",
    "\n",
    "base_model = keras.applications.VGG16(\n",
    "    weights='imagenet',  # Load weights pre-trained on ImageNet.\n",
    "    input_shape=(224, 224, 3),\n",
    "    include_top=False)"
   ]
  },
  {
   "cell_type": "markdown",
   "metadata": {},
   "source": [
    "## Freeze Base Model"
   ]
  },
  {
   "cell_type": "markdown",
   "metadata": {},
   "source": [
    "Next, we suggest freezing the base model, as done in [notebook 05b](05b_presidential_doggy_door.ipynb). This is done so that all the learning from the ImageNet dataset does not get destroyed in the initial training."
   ]
  },
  {
   "cell_type": "code",
   "execution_count": 3,
   "metadata": {},
   "outputs": [],
   "source": [
    "# Freeze base model\n",
    "base_model.trainable = False"
   ]
  },
  {
   "cell_type": "markdown",
   "metadata": {},
   "source": [
    "## Add Layers to Model"
   ]
  },
  {
   "cell_type": "markdown",
   "metadata": {},
   "source": [
    "Now it's time to add layers to the pretrained model. [Notebook 05b](05b_presidential_doggy_door.ipynb) can be used as a guide. Pay close attention to the last dense layer and make sure it has the correct number of neurons to classify the different types of fruit."
   ]
  },
  {
   "cell_type": "code",
   "execution_count": 4,
   "metadata": {},
   "outputs": [],
   "source": [
    "inputs = keras.Input(shape=(224, 224, 3))\n",
    "# Separately from setting trainable on the model, we set training to False \n",
    "x = base_model(inputs, training=False)\n",
    "x = keras.layers.GlobalAveragePooling2D()(x)\n",
    "# A Dense classifier with a single unit (binary classification)\n",
    "outputs = keras.layers.Dense(1)(x)\n",
    "model = keras.Model(inputs, outputs)"
   ]
  },
  {
   "cell_type": "code",
   "execution_count": 5,
   "metadata": {},
   "outputs": [
    {
     "name": "stdout",
     "output_type": "stream",
     "text": [
      "Model: \"model\"\n",
      "_________________________________________________________________\n",
      "Layer (type)                 Output Shape              Param #   \n",
      "=================================================================\n",
      "input_2 (InputLayer)         [(None, 224, 224, 3)]     0         \n",
      "_________________________________________________________________\n",
      "vgg16 (Model)                (None, 7, 7, 512)         14714688  \n",
      "_________________________________________________________________\n",
      "global_average_pooling2d (Gl (None, 512)               0         \n",
      "_________________________________________________________________\n",
      "dense (Dense)                (None, 1)                 513       \n",
      "=================================================================\n",
      "Total params: 14,715,201\n",
      "Trainable params: 513\n",
      "Non-trainable params: 14,714,688\n",
      "_________________________________________________________________\n"
     ]
    }
   ],
   "source": [
    "model.summary()"
   ]
  },
  {
   "cell_type": "markdown",
   "metadata": {},
   "source": [
    "## Compile Model"
   ]
  },
  {
   "cell_type": "markdown",
   "metadata": {},
   "source": [
    "Now it's time to compile the model with loss and metrics options. Remember that we're training on a number of different categories, rather than a binary classification problem."
   ]
  },
  {
   "cell_type": "code",
   "execution_count": 6,
   "metadata": {},
   "outputs": [],
   "source": [
    "model.compile(loss='categorical_crossentropy', metrics=['accuracy'])"
   ]
  },
  {
   "cell_type": "markdown",
   "metadata": {},
   "source": [
    "## Augment the Data"
   ]
  },
  {
   "cell_type": "markdown",
   "metadata": {},
   "source": [
    "If you'd like, try to augment the data to improve the dataset. Feel free to look at [notebook 04a](04a_asl_augmentation.ipynb) and [notebook 05b](05b_presidential_doggy_door.ipynb) for augmentation examples. There is also documentation for the [Keras ImageDataGenerator class](https://keras.io/api/preprocessing/image/#imagedatagenerator-class). This step is optional, but it may be helpful to get to 92% accuracy."
   ]
  },
  {
   "cell_type": "code",
   "execution_count": 7,
   "metadata": {},
   "outputs": [],
   "source": [
    "from tensorflow.keras.preprocessing.image import ImageDataGenerator\n",
    "# create a data generator\n",
    "datagen = ImageDataGenerator(\n",
    "        samplewise_center=True,  # set each sample mean to 0\n",
    "        rotation_range=10,  # randomly rotate images in the range (degrees, 0 to 180)\n",
    "        zoom_range = 0.1, # Randomly zoom image \n",
    "        width_shift_range=0.1,  # randomly shift images horizontally (fraction of total width)\n",
    "        height_shift_range=0.1,  # randomly shift images vertically (fraction of total height)\n",
    "        horizontal_flip=True,  # randomly flip images\n",
    "        vertical_flip=False) # we don't expect Bo to be upside-down so we will not flip vertically"
   ]
  },
  {
   "cell_type": "markdown",
   "metadata": {},
   "source": [
    "## Load Dataset"
   ]
  },
  {
   "cell_type": "markdown",
   "metadata": {},
   "source": [
    "Now it's time to load the train and validation datasets. Pick the right folders, as well as the right `target_size` of the images (it needs to match the height and width input of the model you've created). If you'd like a reference, you can check out [notebook 05b](05b_presidential_doggy_door.ipynb)."
   ]
  },
  {
   "cell_type": "code",
   "execution_count": 9,
   "metadata": {},
   "outputs": [
    {
     "name": "stdout",
     "output_type": "stream",
     "text": [
      "Found 1182 images belonging to 6 classes.\n",
      "Found 329 images belonging to 6 classes.\n"
     ]
    }
   ],
   "source": [
    "# load and iterate training dataset\n",
    "train_it = datagen.flow_from_directory('data/fruits/train/', \n",
    "                                       target_size=(224, 224), \n",
    "                                       color_mode='rgb', \n",
    "                                       class_mode='binary', \n",
    "                                       batch_size=8)\n",
    "# load and iterate validation dataset\n",
    "valid_it = datagen.flow_from_directory('data/fruits/valid/', \n",
    "                                      target_size=(224, 224), \n",
    "                                      color_mode='rgb', \n",
    "                                      class_mode='binary', \n",
    "                                      batch_size=8)"
   ]
  },
  {
   "cell_type": "markdown",
   "metadata": {},
   "source": [
    "## Train the Model"
   ]
  },
  {
   "cell_type": "markdown",
   "metadata": {},
   "source": [
    "Time to train the model! Pass the `train` and `valid` iterators into the `fit` function, as well as setting your desired number of epochs."
   ]
  },
  {
   "cell_type": "code",
   "execution_count": 10,
   "metadata": {},
   "outputs": [
    {
     "name": "stdout",
     "output_type": "stream",
     "text": [
      "Epoch 1/20\n",
      "12/12 [==============================] - 4s 342ms/step - loss: 3.1417e-07 - accuracy: 0.0729 - val_loss: 2.6822e-07 - val_accuracy: 0.0625\n",
      "Epoch 2/20\n",
      "12/12 [==============================] - 2s 141ms/step - loss: 2.7070e-07 - accuracy: 0.0938 - val_loss: 3.6880e-07 - val_accuracy: 0.0938\n",
      "Epoch 3/20\n",
      "12/12 [==============================] - 2s 141ms/step - loss: 2.9678e-07 - accuracy: 0.1042 - val_loss: 3.0175e-07 - val_accuracy: 0.0625\n",
      "Epoch 4/20\n",
      "12/12 [==============================] - 2s 141ms/step - loss: 2.8933e-07 - accuracy: 0.0521 - val_loss: 2.9057e-07 - val_accuracy: 0.0625\n",
      "Epoch 5/20\n",
      "12/12 [==============================] - 2s 141ms/step - loss: 3.2534e-07 - accuracy: 0.0312 - val_loss: 2.9057e-07 - val_accuracy: 0.1250\n",
      "Epoch 6/20\n",
      "12/12 [==============================] - 2s 146ms/step - loss: 3.1789e-07 - accuracy: 0.0938 - val_loss: 3.4645e-07 - val_accuracy: 0.0312\n",
      "Epoch 7/20\n",
      "12/12 [==============================] - 2s 143ms/step - loss: 3.3652e-07 - accuracy: 0.0833 - val_loss: 3.0547e-07 - val_accuracy: 0.0938\n",
      "Epoch 8/20\n",
      "12/12 [==============================] - 2s 147ms/step - loss: 3.3528e-07 - accuracy: 0.1250 - val_loss: 3.5763e-07 - val_accuracy: 0.0625\n",
      "Epoch 9/20\n",
      "12/12 [==============================] - 2s 188ms/step - loss: 3.1044e-07 - accuracy: 0.0625 - val_loss: 2.9564e-07 - val_accuracy: 0.1200\n",
      "Epoch 10/20\n",
      "12/12 [==============================] - 2s 157ms/step - loss: 3.2907e-07 - accuracy: 0.0833 - val_loss: 2.4959e-07 - val_accuracy: 0.1875\n",
      "Epoch 11/20\n",
      "12/12 [==============================] - 2s 140ms/step - loss: 3.0547e-07 - accuracy: 0.0521 - val_loss: 3.2783e-07 - val_accuracy: 0.0625\n",
      "Epoch 12/20\n",
      "12/12 [==============================] - 2s 145ms/step - loss: 3.0672e-07 - accuracy: 0.1042 - val_loss: 2.3842e-07 - val_accuracy: 0.0625\n",
      "Epoch 13/20\n",
      "12/12 [==============================] - 3s 213ms/step - loss: 2.9041e-07 - accuracy: 0.0851 - val_loss: 3.5390e-07 - val_accuracy: 0.0625\n",
      "Epoch 14/20\n",
      "12/12 [==============================] - 2s 144ms/step - loss: 2.6822e-07 - accuracy: 0.0938 - val_loss: 3.2038e-07 - val_accuracy: 0.0938\n",
      "Epoch 15/20\n",
      "12/12 [==============================] - 2s 149ms/step - loss: 3.2162e-07 - accuracy: 0.0833 - val_loss: 2.8685e-07 - val_accuracy: 0.0938\n",
      "Epoch 16/20\n",
      "12/12 [==============================] - 2s 146ms/step - loss: 2.9554e-07 - accuracy: 0.0938 - val_loss: 3.2783e-07 - val_accuracy: 0.0938\n",
      "Epoch 17/20\n",
      "12/12 [==============================] - 2s 160ms/step - loss: 3.2783e-07 - accuracy: 0.0417 - val_loss: 3.1471e-07 - val_accuracy: 0.0000e+00\n",
      "Epoch 18/20\n",
      "12/12 [==============================] - 2s 144ms/step - loss: 3.4397e-07 - accuracy: 0.0625 - val_loss: 2.9057e-07 - val_accuracy: 0.1250\n",
      "Epoch 19/20\n",
      "12/12 [==============================] - 2s 146ms/step - loss: 3.1044e-07 - accuracy: 0.0417 - val_loss: 2.3842e-07 - val_accuracy: 0.1562\n",
      "Epoch 20/20\n",
      "12/12 [==============================] - 2s 142ms/step - loss: 3.3776e-07 - accuracy: 0.0729 - val_loss: 3.1292e-07 - val_accuracy: 0.1562\n"
     ]
    },
    {
     "data": {
      "text/plain": [
       "<tensorflow.python.keras.callbacks.History at 0x7f9c58041b70>"
      ]
     },
     "execution_count": 10,
     "metadata": {},
     "output_type": "execute_result"
    }
   ],
   "source": [
    "model.fit(train_it, steps_per_epoch=12, validation_data=valid_it, validation_steps=4, epochs=20)"
   ]
  },
  {
   "cell_type": "markdown",
   "metadata": {},
   "source": [
    "## Unfreeze Model for Fine Tuning"
   ]
  },
  {
   "cell_type": "markdown",
   "metadata": {},
   "source": [
    "If you have reached 92% validation accuracy already, this next step is optional. If not, we suggest fine tuning the model with a very low learning rate."
   ]
  },
  {
   "cell_type": "code",
   "execution_count": 11,
   "metadata": {},
   "outputs": [],
   "source": [
    "# Unfreeze the base model\n",
    "base_model.trainable = True\n",
    "\n",
    "# It's important to recompile your model after you make any changes\n",
    "# to the `trainable` attribute of any inner layer, so that your changes\n",
    "# are taken into account\n",
    "model.compile(optimizer=keras.optimizers.RMSprop(learning_rate = .00001),  # Very low learning rate\n",
    "              loss=keras.losses.BinaryCrossentropy(from_logits=True),\n",
    "              metrics=[keras.metrics.BinaryAccuracy()])"
   ]
  },
  {
   "cell_type": "code",
   "execution_count": 12,
   "metadata": {},
   "outputs": [
    {
     "name": "stdout",
     "output_type": "stream",
     "text": [
      "Epoch 1/10\n",
      "12/12 [==============================] - 7s 571ms/step - loss: -1201.6139 - binary_accuracy: 0.1146 - val_loss: -6002.8042 - val_binary_accuracy: 0.1562\n",
      "Epoch 2/10\n",
      "12/12 [==============================] - 2s 168ms/step - loss: -42262.6328 - binary_accuracy: 0.1771 - val_loss: -169546.1250 - val_binary_accuracy: 0.1562\n",
      "Epoch 3/10\n",
      "12/12 [==============================] - 2s 169ms/step - loss: -599074.4375 - binary_accuracy: 0.0938 - val_loss: -914544.5000 - val_binary_accuracy: 0.2188\n",
      "Epoch 4/10\n",
      "12/12 [==============================] - 2s 171ms/step - loss: -3607614.0000 - binary_accuracy: 0.0938 - val_loss: -6916475.5000 - val_binary_accuracy: 0.0625\n",
      "Epoch 5/10\n",
      "12/12 [==============================] - 3s 285ms/step - loss: -12658875.0000 - binary_accuracy: 0.2340 - val_loss: -31898584.0000 - val_binary_accuracy: 0.1250\n",
      "Epoch 6/10\n",
      "12/12 [==============================] - 2s 160ms/step - loss: -42349972.0000 - binary_accuracy: 0.1146 - val_loss: -51977996.0000 - val_binary_accuracy: 0.1200\n",
      "Epoch 7/10\n",
      "12/12 [==============================] - 2s 169ms/step - loss: -106043512.0000 - binary_accuracy: 0.1979 - val_loss: -114046000.0000 - val_binary_accuracy: 0.2188\n",
      "Epoch 8/10\n",
      "12/12 [==============================] - 2s 167ms/step - loss: -336526624.0000 - binary_accuracy: 0.0938 - val_loss: -319697184.0000 - val_binary_accuracy: 0.1875\n",
      "Epoch 9/10\n",
      "12/12 [==============================] - 2s 169ms/step - loss: -835873536.0000 - binary_accuracy: 0.1562 - val_loss: -1105453184.0000 - val_binary_accuracy: 0.2188\n",
      "Epoch 10/10\n",
      "12/12 [==============================] - 2s 171ms/step - loss: -1615880832.0000 - binary_accuracy: 0.2188 - val_loss: -2513794048.0000 - val_binary_accuracy: 0.0625\n"
     ]
    },
    {
     "data": {
      "text/plain": [
       "<tensorflow.python.keras.callbacks.History at 0x7f9c63725198>"
      ]
     },
     "execution_count": 12,
     "metadata": {},
     "output_type": "execute_result"
    }
   ],
   "source": [
    "model.fit(train_it, steps_per_epoch=12, validation_data=valid_it, validation_steps=4, epochs=10)"
   ]
  },
  {
   "cell_type": "markdown",
   "metadata": {},
   "source": [
    "## Evaluate the Model"
   ]
  },
  {
   "cell_type": "markdown",
   "metadata": {},
   "source": [
    "Hopefully, you now have a model that has a validation accuracy of 92% or higher. If not, you may want to go back and either run more epochs of training, or adjust your data augmentation. \n",
    "\n",
    "Once you are satisfied with the validation accuracy, evaluate the model by executing the following cell. The evaluate function will return a tuple, where the first value is your loss, and the second value is your accuracy. To pass, the model will need have an accuracy value of `92% or higher`. "
   ]
  },
  {
   "cell_type": "code",
   "execution_count": 13,
   "metadata": {},
   "outputs": [
    {
     "name": "stdout",
     "output_type": "stream",
     "text": [
      "42/41 [==============================] - 4s 101ms/step - loss: -2615830528.0000 - binary_accuracy: 0.1337\n"
     ]
    },
    {
     "data": {
      "text/plain": [
       "[-2615830528.0, 0.13373860716819763]"
      ]
     },
     "execution_count": 13,
     "metadata": {},
     "output_type": "execute_result"
    }
   ],
   "source": [
    "model.evaluate(valid_it, steps=valid_it.samples/valid_it.batch_size)"
   ]
  },
  {
   "cell_type": "markdown",
   "metadata": {},
   "source": [
    "## Run the Assessment"
   ]
  },
  {
   "cell_type": "markdown",
   "metadata": {},
   "source": [
    "To assess your model run the following two cells.\n",
    "\n",
    "**NOTE:** `run_assessment` assumes your model is named `model` and your validation data iterator is called `valid_it`. If for any reason you have modified these variable names, please update the names of the arguments passed to `run_assessment`."
   ]
  },
  {
   "cell_type": "code",
   "execution_count": 14,
   "metadata": {},
   "outputs": [],
   "source": [
    "from run_assessment import run_assessment"
   ]
  },
  {
   "cell_type": "code",
   "execution_count": 15,
   "metadata": {},
   "outputs": [
    {
     "name": "stdout",
     "output_type": "stream",
     "text": [
      "Evaluating model 5 times to obtain average accuracy...\n",
      "\n",
      "42/41 [==============================] - 4s 102ms/step - loss: -2437123840.0000 - binary_accuracy: 0.1550\n",
      "42/41 [==============================] - 4s 101ms/step - loss: -2444882944.0000 - binary_accuracy: 0.1459\n",
      "42/41 [==============================] - 4s 101ms/step - loss: -2294829056.0000 - binary_accuracy: 0.1398\n",
      "42/41 [==============================] - 4s 101ms/step - loss: -2414762240.0000 - binary_accuracy: 0.1581\n",
      "42/41 [==============================] - 4s 100ms/step - loss: -2459966208.0000 - binary_accuracy: 0.1337\n",
      "\n",
      "Accuracy required to pass the assessment is 0.92 or greater.\n",
      "Your average accuracy is 0.1465.\n",
      "\n",
      "Your accuracy is not yet high enough to pass the assessment, please continue trying.\n"
     ]
    }
   ],
   "source": [
    "run_assessment(model, valid_it)"
   ]
  },
  {
   "cell_type": "markdown",
   "metadata": {},
   "source": [
    "## Generate a Certificate"
   ]
  },
  {
   "cell_type": "markdown",
   "metadata": {},
   "source": [
    "If you passed the assessment, please return to the course page (shown below) and click the \"ASSESS TASK\" button, which will generate your certificate for the course."
   ]
  },
  {
   "cell_type": "markdown",
   "metadata": {},
   "source": [
    "<img src=\"./images/assess_task.png\" style=\"width: 800px;\">"
   ]
  }
 ],
 "metadata": {
  "kernelspec": {
   "display_name": "Python 3",
   "language": "python",
   "name": "python3"
  },
  "language_info": {
   "codemirror_mode": {
    "name": "ipython",
    "version": 3
   },
   "file_extension": ".py",
   "mimetype": "text/x-python",
   "name": "python",
   "nbconvert_exporter": "python",
   "pygments_lexer": "ipython3",
   "version": "3.6.9"
  }
 },
 "nbformat": 4,
 "nbformat_minor": 4
}
